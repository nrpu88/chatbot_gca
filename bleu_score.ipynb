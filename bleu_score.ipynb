{
 "cells": [
  {
   "cell_type": "code",
   "execution_count": 17,
   "metadata": {},
   "outputs": [
    {
     "name": "stdout",
     "output_type": "stream",
     "text": [
      "['There', 'are', '5', 'people', 'in', 'my', 'family:', 'my', 'father,', 'mother,', 'brother,', 'sister,', 'and', 'me.']\n",
      "['', 'my', 'neighbor', 'has', 'three', 'kids', ',', 'a', 'living', 'in', 'which', '', '.']\n",
      "22.254641446822067\n"
     ]
    }
   ],
   "source": [
    "from nltk.translate.bleu_score import sentence_bleu\n",
    "ref = open('test_data_100','r').read()\n",
    "ref_data_all = ref.split('\\n')\n",
    "ref_data = []\n",
    "i=0\n",
    "end = 201\n",
    "print(ref_data_all[1].split(' '))\n",
    "for i in range(1,end,2):\n",
    "    d = ref_data_all[i].split(' ')\n",
    "    ref_data+=d\n",
    "cad = open('saved_answer','r').read()\n",
    "cad_data = cad.split('\\n')\n",
    "\n",
    "#reference = [['this', 'is', 'a', 'test'], ['this', 'is' 'test']]\n",
    "#candidate = ['this', 'is', 'a', 'test']\n",
    "sum_bleu = 0.0\n",
    "\n",
    "print(cad_data[0].split(' '))\n",
    "\n",
    "for i in cad_data:\n",
    "    score = sentence_bleu(ref_data, i.split(' '))\n",
    "    sum_bleu+=score\n",
    "print((sum_bleu/100)*pow(10,157))"
   ]
  },
  {
   "cell_type": "code",
   "execution_count": null,
   "metadata": {},
   "outputs": [],
   "source": []
  },
  {
   "cell_type": "code",
   "execution_count": null,
   "metadata": {},
   "outputs": [],
   "source": []
  }
 ],
 "metadata": {
  "kernelspec": {
   "display_name": "gputest",
   "language": "python",
   "name": "gputest"
  },
  "language_info": {
   "codemirror_mode": {
    "name": "ipython",
    "version": 3
   },
   "file_extension": ".py",
   "mimetype": "text/x-python",
   "name": "python",
   "nbconvert_exporter": "python",
   "pygments_lexer": "ipython3",
   "version": "3.7.6"
  }
 },
 "nbformat": 4,
 "nbformat_minor": 4
}
