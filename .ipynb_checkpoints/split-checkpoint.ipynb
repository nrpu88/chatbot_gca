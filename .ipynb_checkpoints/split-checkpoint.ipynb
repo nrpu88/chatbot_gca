{
 "cells": [
  {
   "cell_type": "code",
   "execution_count": 1,
   "metadata": {},
   "outputs": [],
   "source": [
    "\n",
    "import numpy as np\n",
    "\n",
    "text = open('hotpot_30.txt', 'r', errors='ignore')\n",
    "q = open('context', 'w')\n",
    "a = open('answers', 'w')\n",
    "pre_pre_previous_raw=''\n",
    "pre_previous_raw=''\n",
    "previous_raw=''\n",
    "person = ' '\n",
    "previous_person=' '\n",
    "\n",
    "l1 = ['won’t','won\\'t','wouldn’t','wouldn\\'t','’m', '’re', '’ve', '’ll', '’s','’d', 'n’t', '\\'m', '\\'re', '\\'ve', '\\'ll', '\\'s', '\\'d', 'can\\'t', 'n\\'t', 'B: ', 'A: ', ',', ';', '.', '?', '!', ':', '. ?', ',   .', '. ,', 'EOS', 'BOS', 'eos', 'bos']\n",
    "l2 = ['will not','will not','would not','would not',' am', ' are', ' have', ' will', ' is', ' had', ' not', ' am', ' are', ' have', ' will', ' is', ' had', 'can not', ' not', '', '', ' ,', ' ;', ' .', ' ?', ' !', ' :', '? ', '.', ',', '', '', '', '']\n",
    "l3 = ['-', '_', ' *', ' /', '* ', '/ ', '\\\"', ' \\\\\"', '\\\\ ', '--', '...', '. . .']\n",
    "\n",
    "for i, raw_word in enumerate(text):\n",
    "    pos = raw_word.find('+++$+++')\n",
    "\n",
    "    if pos > -1:\n",
    "        person = raw_word[pos+7:pos+10]\n",
    "        raw_word = raw_word[pos+8:]\n",
    "    while pos > -1:\n",
    "        pos = raw_word.find('+++$+++')\n",
    "        raw_word = raw_word[pos+2:]\n",
    "        \n",
    "    raw_word = raw_word.replace('$+++','')\n",
    "    previous_person = person\n",
    "\n",
    "    for j, term in enumerate(l1):\n",
    "        raw_word = raw_word.replace(term,l2[j])\n",
    "        \n",
    "    for term in l3:\n",
    "        raw_word = raw_word.replace(term,' ')\n",
    "    \n",
    "    raw_word = raw_word.lower()\n",
    "\n",
    "    if i>0:\n",
    "        q.write(pre_previous_raw[:-1] + ' ' + previous_raw[:-1]+ '\\n')  # python will convert \\n to os.linese\n",
    "        a.write(raw_word[:-1]+ '\\n')\n",
    "    \n",
    "    pre_pre_previous_raw = pre_previous_raw    \n",
    "    pre_previous_raw = previous_raw\n",
    "    previous_raw = raw_word\n",
    "\n",
    "q.close()\n",
    "a.close()\n"
   ]
  },
  {
   "cell_type": "code",
   "execution_count": null,
   "metadata": {},
   "outputs": [],
   "source": []
  }
 ],
 "metadata": {
  "kernelspec": {
   "display_name": "Python 3",
   "language": "python",
   "name": "python3"
  },
  "language_info": {
   "codemirror_mode": {
    "name": "ipython",
    "version": 3
   },
   "file_extension": ".py",
   "mimetype": "text/x-python",
   "name": "python",
   "nbconvert_exporter": "python",
   "pygments_lexer": "ipython3",
   "version": "3.7.4"
  }
 },
 "nbformat": 4,
 "nbformat_minor": 4
}
